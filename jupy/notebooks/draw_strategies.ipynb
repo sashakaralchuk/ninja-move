{
 "cells": [
  {
   "cell_type": "code",
   "execution_count": null,
   "id": "027f53c7-ae95-4d65-948c-16ed9fa9a3de",
   "metadata": {
    "tags": []
   },
   "outputs": [],
   "source": [
    "%load_ext lab_black"
   ]
  },
  {
   "cell_type": "code",
   "execution_count": null,
   "id": "9672ec1f-22e4-4567-bca9-ce18bb79e5a0",
   "metadata": {
    "tags": []
   },
   "outputs": [],
   "source": [
    "import json\n",
    "import datetime as dt\n",
    "\n",
    "import mplfinance as mpf\n",
    "import pandas as pd\n",
    "import numpy as np\n",
    "import pandera as pa\n",
    "\n",
    "import shared\n",
    "\n",
    "\n",
    "logger = shared.get_logger()"
   ]
  },
  {
   "cell_type": "code",
   "execution_count": null,
   "id": "37bdfa01-4695-4488-9e08-394e424457c1",
   "metadata": {
    "tags": []
   },
   "outputs": [],
   "source": [
    "klines_btc_1m_df = shared.read_binance_klines()\n",
    "klines_btc_1h_df = shared.split_df(df=klines_btc_1m_df, interval_str=\"1h\")"
   ]
  },
  {
   "cell_type": "code",
   "execution_count": null,
   "id": "c09a1bcd-3873-4630-b404-e73074aaf697",
   "metadata": {
    "tags": []
   },
   "outputs": [],
   "source": [
    "trades_btc_df = shared.read_binance_trades(\n",
    "    date_start=dt.date.fromisoformat(\"2024-04-05\"),\n",
    "    date_end=dt.date.fromisoformat(\"2024-04-07\"),\n",
    ")"
   ]
  },
  {
   "cell_type": "markdown",
   "id": "d3f6601d-3853-41b2-8272-b403b9b38cf4",
   "metadata": {
    "jp-MarkdownHeadingCollapsed": true,
    "tags": []
   },
   "source": [
    "### weekends-pumps-dumps on 2024-03-30"
   ]
  },
  {
   "cell_type": "code",
   "execution_count": null,
   "id": "1ecec0af-283d-43d8-9471-13fbba34f079",
   "metadata": {
    "tags": []
   },
   "outputs": [],
   "source": [
    "sundays_list = pd.date_range(start=\"2023-08-01\", end=\"2024-03-30\", freq=\"W\").tolist()\n",
    "weekeds_dt_ranges = [\n",
    "    (sunday_dt - dt.timedelta(days=2), sunday_dt + dt.timedelta(days=1))\n",
    "    for sunday_dt in sundays_list\n",
    "]\n",
    "dt_threshold = dt.datetime.fromisoformat(\"2023-08-01\")\n",
    "for dt_start, dt_end in weekeds_dt_ranges:\n",
    "    slice_df = klines_btc_1h_df[lambda x: x.index >= dt_threshold][\n",
    "        lambda x: x.index >= dt_start\n",
    "    ][lambda x: x.index <= dt_end]\n",
    "    fig, axlist = mpf.plot(\n",
    "        slice_df,\n",
    "        warn_too_much_data=len(slice_df),\n",
    "        type=\"candle\",\n",
    "        figsize=(14, 3),\n",
    "        style=shared.s,\n",
    "        returnfig=True,\n",
    "        vlines={\n",
    "            \"vlines\": [(dt_start + dt.timedelta(days=1)).date()],\n",
    "            \"linewidths\": 0.2,\n",
    "        },\n",
    "    )\n",
    "    max_diff_abs = slice_df.high.max() - slice_df.low.min()\n",
    "    max_diff_rel = (max_diff_abs / slice_df.low.min()) * 100\n",
    "    x_label = f\"[{dt_start.date()} - {dt_end.date()}] max_diff_rel={max_diff_rel:.2f}\"\n",
    "    axlist[-2].set_xlabel(x_label)\n",
    "    axlist[-2].xaxis.set_ticklabels([])"
   ]
  },
  {
   "cell_type": "markdown",
   "id": "cf1044ba-12c6-4222-8f8c-8bf936c5c674",
   "metadata": {
    "jp-MarkdownHeadingCollapsed": true,
    "tags": []
   },
   "source": [
    "### aprils on 2024-04-02"
   ]
  },
  {
   "cell_type": "code",
   "execution_count": null,
   "id": "1f3452a8-e55c-47d0-a4a4-256141c44ddb",
   "metadata": {
    "tags": []
   },
   "outputs": [],
   "source": [
    "for year in [2023, 2022, 2021, 2020, 2019, 2018]:\n",
    "    dt_start = dt.datetime.fromisoformat(f\"{year}-04-01\")\n",
    "    dt_end = dt.datetime.fromisoformat(f\"{year}-05-01\")\n",
    "    slice_df = klines_btc_1h_df[lambda x: x.index >= dt_start][\n",
    "        lambda x: x.index <= dt_end\n",
    "    ]\n",
    "    fig, axlist = mpf.plot(\n",
    "        slice_df,\n",
    "        warn_too_much_data=len(slice_df),\n",
    "        type=\"candle\",\n",
    "        figsize=(14, 3),\n",
    "        style=shared.s,\n",
    "        returnfig=True,\n",
    "    )\n",
    "    max_diff_abs = slice_df.high.max() - slice_df.low.min()\n",
    "    max_diff_rel = (max_diff_abs / slice_df.low.min()) * 100\n",
    "    x_label = f\"[{dt_start.date()} - {dt_end.date()}] max_diff_rel={max_diff_rel:.2f}\"\n",
    "    axlist[-2].set_xlabel(x_label)\n",
    "    axlist[-2].xaxis.set_ticklabels([])"
   ]
  },
  {
   "cell_type": "markdown",
   "id": "0a6fd73e-689b-4b54-9d8a-b6ceff21de92",
   "metadata": {
    "jp-MarkdownHeadingCollapsed": true,
    "tags": []
   },
   "source": [
    "### ema-hit"
   ]
  },
  {
   "cell_type": "code",
   "execution_count": null,
   "id": "d057cf77-ccf0-4c63-b920-dfd31c2a3f9c",
   "metadata": {
    "tags": []
   },
   "outputs": [],
   "source": [
    "dt_start = dt.datetime.fromisoformat(\"2024-03-01\")\n",
    "dt_end = dt.datetime.fromisoformat(\"2024-03-31\")\n",
    "slice_df = klines_btc_1h_df[lambda x: x.index >= dt_start][lambda x: x.index <= dt_end]\n",
    "highs_vals = []\n",
    "highs_alines = []\n",
    "\n",
    "for _, row in slice_df.iterrows():\n",
    "    while highs_vals and highs_vals[-1] < row.high:\n",
    "        highs_vals.pop()\n",
    "        highs_alines.pop()\n",
    "    ts = dt.datetime.fromtimestamp(row.open_time / 1000)\n",
    "    aline = [(ts, row.high + 50), (ts, row.high + 100)]\n",
    "    highs_vals.append(row.high)\n",
    "    highs_alines.append(aline)\n",
    "    assert len(highs_vals) == len(highs_alines)\n",
    "\n",
    "mpf.plot(\n",
    "    slice_df,\n",
    "    warn_too_much_data=len(slice_df),\n",
    "    alines={\"alines\": list(highs_alines), \"colors\": [\"#f19d38\"]},\n",
    "    type=\"candle\",\n",
    "    figsize=(14, 4),\n",
    "    style=shared.s,\n",
    "    ema=120,\n",
    ")"
   ]
  },
  {
   "cell_type": "code",
   "execution_count": null,
   "id": "b155c745-34c7-4436-a296-7d268a7d45ae",
   "metadata": {
    "tags": []
   },
   "outputs": [],
   "source": [
    "slice_df = klines_btc_1h_df[\n",
    "    lambda x: x.index >= dt.datetime.fromisoformat(\"2024-03-01\")\n",
    "].head(30)\n",
    "t_indicator = mpf.make_addplot(slice_df[[\"high\", \"low\"]])\n",
    "fig, axlist = mpf.plot(\n",
    "    slice_df,\n",
    "    type=\"candle\",\n",
    "    figsize=(14, 4),\n",
    "    style=shared.s,\n",
    "    returnfig=True,\n",
    "    addplot=t_indicator,\n",
    ")\n",
    "??mpf.make_addplot"
   ]
  },
  {
   "cell_type": "markdown",
   "id": "aa48218c-ea6e-4f7b-8f75-4c94859f538f",
   "metadata": {
    "jp-MarkdownHeadingCollapsed": true,
    "tags": []
   },
   "source": [
    "### compare candles with binance candles"
   ]
  },
  {
   "cell_type": "code",
   "execution_count": null,
   "id": "ed71323e-ee4a-44cc-821a-53cc3e572374",
   "metadata": {
    "tags": []
   },
   "outputs": [],
   "source": [
    "# def calc_emas(prices: list[float], len_: int) -> list[float]:\n",
    "#     smoothing = 2.0\n",
    "#     len_sma = sum(prices[:len_]) / len_\n",
    "#     emas = [len_sma] * len_\n",
    "#     for i in range(len_, len(prices)):\n",
    "#         k = smoothing / (1 + len_)\n",
    "#         ema = prices[i] * k + emas[-1] * (1.0 - k)\n",
    "#         emas.append(ema)\n",
    "#     assert len(prices) == len(emas)\n",
    "#     return emas\n",
    "\n",
    "\n",
    "def calc_emas(prices: list[float], len_: int) -> list[float]:\n",
    "    smoothing = 2.0\n",
    "    emas = [prices[0]]\n",
    "    for i in range(1, len(prices)):\n",
    "        k = smoothing / (1 + len_)\n",
    "        ema = prices[i] * k + emas[-1] * (1.0 - k)\n",
    "        emas.append(ema)\n",
    "    assert len(prices) == len(emas)\n",
    "    return emas"
   ]
  },
  {
   "cell_type": "code",
   "execution_count": null,
   "id": "88eb31d0-f682-418c-8ae9-321f9058cf85",
   "metadata": {
    "tags": []
   },
   "outputs": [],
   "source": [
    "slice_df.close.ewm(com=2).mean()"
   ]
  },
  {
   "cell_type": "code",
   "execution_count": null,
   "id": "2bd0612e-39ec-4933-9e1e-91c8362d8a7d",
   "metadata": {
    "tags": []
   },
   "outputs": [],
   "source": [
    "# binance data on 2024-04-06 00:00 is (67820.63, 68065.23, 67686.23, 67900.57)\n",
    "\n",
    "dt_start = dt.datetime.fromisoformat(\"2024-04-02\")\n",
    "dt_end = dt.datetime.fromisoformat(\"2024-04-07\")\n",
    "slice_df = klines_btc_1h_df[lambda x: x.index >= dt_start][lambda x: x.index <= dt_end]\n",
    "\n",
    "mpf.plot(\n",
    "    slice_df,\n",
    "    type=\"candle\",\n",
    "    figsize=(14, 4),\n",
    "    style=shared.s,\n",
    "    ema=12,\n",
    "    addplot=mpf.make_addplot(\n",
    "        # calc_emas(slice_df.close.tolist(), len_=12),\n",
    "        # slice_df.close.ewm(span=12, adjust=False).mean(),\n",
    "        emas_2024_04_08,\n",
    "        color=\"orange\",\n",
    "        linestyle=\"dashed\",\n",
    "    ),\n",
    "    vlines={\n",
    "        \"vlines\": [dt.date.fromisoformat(\"2024-04-06\")],\n",
    "        \"linewidths\": 0.2,\n",
    "    },\n",
    ")"
   ]
  },
  {
   "cell_type": "code",
   "execution_count": null,
   "id": "9c8c861a-b87f-401c-bb9f-20e439f0a43e",
   "metadata": {
    "tags": []
   },
   "outputs": [],
   "source": [
    "with open(\"/home/jovyan/.var/close-prices-2024-04-08.json\", \"w\") as f:\n",
    "    f.write(json.dumps({\"close_prices\": slice_df.close.tolist()}))"
   ]
  },
  {
   "cell_type": "code",
   "execution_count": null,
   "id": "48c98d48-2509-48ee-90a8-2d5bf74ebb5e",
   "metadata": {
    "tags": []
   },
   "outputs": [],
   "source": [
    "emas_2024_04_08 = json.load(open(\"/home/jovyan/.var/emas-2024-04-08.json\"))[\"emas\"]"
   ]
  },
  {
   "cell_type": "code",
   "execution_count": null,
   "id": "3720b7a9-5db1-49b2-b39b-feffe9c5d179",
   "metadata": {
    "tags": []
   },
   "outputs": [],
   "source": [
    "# emas_2024_04_08"
   ]
  },
  {
   "cell_type": "markdown",
   "id": "bd53c7bb-6e5e-423f-9c03-ca22ce287307",
   "metadata": {
    "jp-MarkdownHeadingCollapsed": true,
    "tags": []
   },
   "source": [
    "### draw trade-emas backtest"
   ]
  },
  {
   "cell_type": "code",
   "execution_count": null,
   "id": "909b347f-b109-4a10-a3fb-4dd40bc94f5a",
   "metadata": {
    "tags": []
   },
   "outputs": [],
   "source": [
    "debug_candles_df = pd.read_sql_query(\n",
    "    \"\"\"\n",
    "    select *\n",
    "    from public.debug_candles;\n",
    "\"\"\",\n",
    "    con=shared.get_sa_engine(),\n",
    ").set_index(\"open_time\")\n",
    "debug_emas_df = pd.read_sql_query(\n",
    "    \"\"\"\n",
    "    select *\n",
    "    from public.debug_emas;\n",
    "\"\"\",\n",
    "    con=shared.get_sa_engine(),\n",
    ")\n",
    "backtests_df = pd.read_sql_query(\n",
    "    \"\"\"\n",
    "    select *\n",
    "    from public.backtests;\n",
    "\"\"\",\n",
    "    con=shared.get_sa_engine(),\n",
    ")\n",
    "len(debug_candles_df), len(debug_emas_df), len(backtests_df)"
   ]
  },
  {
   "cell_type": "code",
   "execution_count": null,
   "id": "2072b8a0-5767-49f2-8e42-891e92e66741",
   "metadata": {
    "tags": []
   },
   "outputs": [],
   "source": [
    "alines_list = []\n",
    "for _, row in backtests_df.iterrows():\n",
    "    if row.close_timestamp > debug_candles_df.index.max():\n",
    "        continue\n",
    "    b = [(row.open_timestamp, row.open_price), (row.close_timestamp, row.close_price)]\n",
    "    alines_list.append(b)\n",
    "emas = [\n",
    "    80_000 for _ in range(len(debug_candles_df) - len(debug_emas_df))\n",
    "] + debug_emas_df.value_ema.to_list()\n",
    "mpf.plot(\n",
    "    debug_candles_df,\n",
    "    type=\"candle\",\n",
    "    figsize=(140, 40),\n",
    "    style=shared.s,\n",
    "    ema=12,\n",
    "    addplot=mpf.make_addplot(emas, color=\"orange\", linestyle=\"dashed\"),\n",
    "    alines={\"alines\": alines_list, \"colors\": [\"r\"], \"linewidths\": 5},\n",
    ")"
   ]
  }
 ],
 "metadata": {
  "kernelspec": {
   "display_name": "Python 3 (ipykernel)",
   "language": "python",
   "name": "python3"
  },
  "language_info": {
   "codemirror_mode": {
    "name": "ipython",
    "version": 3
   },
   "file_extension": ".py",
   "mimetype": "text/x-python",
   "name": "python",
   "nbconvert_exporter": "python",
   "pygments_lexer": "ipython3",
   "version": "3.10.9"
  }
 },
 "nbformat": 4,
 "nbformat_minor": 5
}
