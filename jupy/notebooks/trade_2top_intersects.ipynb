{
 "cells": [
  {
   "cell_type": "code",
   "execution_count": null,
   "id": "20ffb758-38f0-4c41-90a3-676d8f9b1059",
   "metadata": {
    "tags": []
   },
   "outputs": [],
   "source": [
    "%load_ext lab_black"
   ]
  },
  {
   "cell_type": "code",
   "execution_count": null,
   "id": "df2dd3fb-d3d6-4637-ae88-182621861d07",
   "metadata": {
    "tags": []
   },
   "outputs": [],
   "source": [
    "import datetime as dt\n",
    "\n",
    "import mplfinance as mpf\n",
    "import pandas as pd\n",
    "import numpy as np\n",
    "import pandera as pa\n",
    "import matplotlib.pyplot as plt\n",
    "\n",
    "import shared\n",
    "\n",
    "\n",
    "logger = shared.get_logger()"
   ]
  },
  {
   "cell_type": "code",
   "execution_count": null,
   "id": "9bb6561c-02e6-4f5d-8d5a-3d6d39932191",
   "metadata": {
    "tags": []
   },
   "outputs": [],
   "source": [
    "klines_btc_1m_df = shared.read_binance_klines()\n",
    "# trades_btc_df = shared.read_binance_trades()\n",
    "klines_btc_15m_df = shared.split_df(df=klines_btc_1m_df, interval_str=\"15m\")"
   ]
  },
  {
   "cell_type": "markdown",
   "id": "01521411-05fb-4038-bbef-96051487eefc",
   "metadata": {
    "jp-MarkdownHeadingCollapsed": true,
    "tags": []
   },
   "source": [
    "### implement all prev highs track"
   ]
  },
  {
   "cell_type": "code",
   "execution_count": null,
   "id": "66c5bb72-af37-4ead-b1b9-d21189488472",
   "metadata": {
    "tags": []
   },
   "outputs": [],
   "source": [
    "slice_df = klines_btc_15m_df.iloc[0:50]\n",
    "highs_vals = []\n",
    "highs_alines = []\n",
    "\n",
    "for _, row in slice_df.iterrows():\n",
    "    while highs_vals and highs_vals[-1] < row.high:\n",
    "        highs_vals.pop()\n",
    "        highs_alines.pop()\n",
    "    ts = dt.datetime.fromtimestamp(row.open_time / 1000)\n",
    "    aline = [(ts, row.high + 50), (ts, row.high + 100)]\n",
    "    highs_vals.append(row.high)\n",
    "    highs_alines.append(aline)\n",
    "    assert len(highs_vals) == len(highs_alines)\n",
    "\n",
    "mpf.plot(\n",
    "    slice_df,\n",
    "    warn_too_much_data=len(slice_df),\n",
    "    alines={\"alines\": list(highs_alines), \"colors\": [\"#f19d38\"]},\n",
    "    type=\"candle\",\n",
    "    figsize=(14, 4),\n",
    "    style=shared.s,\n",
    ")"
   ]
  },
  {
   "cell_type": "markdown",
   "id": "7b1e6d62-3640-42ba-b83e-12e01421b9c3",
   "metadata": {
    "jp-MarkdownHeadingCollapsed": true,
    "tags": []
   },
   "source": [
    "### draw buy on every price intersection"
   ]
  },
  {
   "cell_type": "code",
   "execution_count": null,
   "id": "a48c986a-c61b-4a87-b81d-e6cfa9a9f58f",
   "metadata": {
    "tags": []
   },
   "outputs": [],
   "source": [
    "slice_df = klines_btc_15m_df.iloc[0:50]\n",
    "highs_vals = []\n",
    "buys_alines = []\n",
    "\n",
    "\n",
    "for _, row in slice_df.iterrows():\n",
    "    highs_poped = []\n",
    "    while highs_vals and highs_vals[-1] < row.high:\n",
    "        highs_poped.append(highs_vals.pop())\n",
    "    highs_vals.append(row.high)\n",
    "    if not highs_poped:\n",
    "        continue\n",
    "    end_ts = dt.datetime.fromtimestamp(row.open_time / 1000)\n",
    "    start_ts = end_ts - dt.timedelta(minutes=15)\n",
    "    aline = [(start_ts, highs_poped[0]), (end_ts, highs_poped[0])]\n",
    "    buys_alines.append(aline)\n",
    "\n",
    "\n",
    "mpf.plot(\n",
    "    slice_df,\n",
    "    warn_too_much_data=len(slice_df),\n",
    "    alines={\"alines\": list(buys_alines), \"colors\": [\"#f19d38\"]},\n",
    "    type=\"candle\",\n",
    "    figsize=(14, 4),\n",
    "    style=shared.s,\n",
    ")"
   ]
  },
  {
   "cell_type": "markdown",
   "id": "86b53c61-0192-455d-b1aa-47c56a01d320",
   "metadata": {
    "jp-MarkdownHeadingCollapsed": true,
    "tags": []
   },
   "source": [
    "### compare klines and trades"
   ]
  },
  {
   "cell_type": "code",
   "execution_count": null,
   "id": "5713ab79-51dc-4401-89b2-cd1ecb9d8e60",
   "metadata": {
    "tags": []
   },
   "outputs": [],
   "source": [
    "from binance_historical_data import BinanceDataDumper\n",
    "\n",
    "\n",
    "data_dumper = BinanceDataDumper(\n",
    "    path_dir_where_to_dump=\"/home/jovyan/.var/binance\",\n",
    "    asset_class=\"spot\",\n",
    "    data_type=\"trades\",\n",
    "    data_frequency=\"1m\",\n",
    ")\n",
    "data_dumper.dump_data(\n",
    "    tickers=['BTCUSDT'],\n",
    "    date_start=dt.date(year=2024, month=1, day=1),\n",
    "    date_end=dt.date(year=2024, month=2, day=1),\n",
    "    is_to_update_existing=True,\n",
    ")"
   ]
  },
  {
   "cell_type": "code",
   "execution_count": null,
   "id": "baf30920-52e6-49e5-97b0-a2308727a243",
   "metadata": {
    "tags": []
   },
   "outputs": [],
   "source": [
    "file_path = '/home/jovyan/.var/binance/spot/monthly/trades/BTCUSDT/BTCUSDT-trades-2024-01.csv'\n",
    "columns = ['id', 'price', 'qty', 'base_qty', 'time', 'is_buyer', 'is_maker']\n",
    "trades_btc_df = (\n",
    "    pd.read_csv(file_path, names=columns, header=None, nrows=1_000_000)\n",
    "    .assign(\n",
    "        _open_time=lambda x: x.time.apply(lambda x: dt.datetime.fromtimestamp(x/1000)),\n",
    "        open=lambda x: x.price,\n",
    "        close=lambda x: x.price,\n",
    "        low=lambda x: x.price,\n",
    "        high=lambda x: x.price,\n",
    "    )\n",
    "    .set_index('_open_time')\n",
    ")"
   ]
  },
  {
   "cell_type": "code",
   "execution_count": null,
   "id": "c0dbecd6-fd98-4c98-9a5d-6c161e30871e",
   "metadata": {
    "tags": []
   },
   "outputs": [],
   "source": [
    "end_ts = klines_btc_1m_df.index.min() + dt.timedelta(hours=5)\n",
    "slice_klines_df = klines_btc_1m_df[lambda x: x.index <= end_ts]\n",
    "# mpf.plot(slice_klines_df, type='candle', figsize=(14, 4), style=shared.s)\n",
    "slice_trades_df = trades_btc_df[lambda x: x.index <= slice_klines_df.index.max()]\n",
    "# mpf.plot( slice_trades_df, type='line', figsize=(14, 4), style=shared.s)\n",
    "plt.style.use('dark_background')\n",
    "plt.figure(figsize=(140,40))\n",
    "plt.plot(slice_klines_df.index, slice_klines_df.open, 'r')\n",
    "plt.plot(slice_trades_df.index, slice_trades_df.open, 'g--', alpha=0.5)\n",
    "plt.show()"
   ]
  },
  {
   "cell_type": "markdown",
   "id": "bd6ef405-bb7b-4a62-ab38-7742ca25caad",
   "metadata": {
    "jp-MarkdownHeadingCollapsed": true,
    "tags": []
   },
   "source": [
    "### implement buy on non klines data"
   ]
  },
  {
   "cell_type": "code",
   "execution_count": null,
   "id": "f0b8d5f7-ce25-49b1-85ef-92a7d6aca03d",
   "metadata": {},
   "outputs": [],
   "source": [
    "klines_from_trades_btc_1m_df = (\n",
    "    trades_btc_df\n",
    "    .sort_values(by=['time'])\n",
    "    .assign(\n",
    "        i=lambda x: x.time - x.time.min(),\n",
    "        j=lambda x: (x.i / 60_000).astype(int),\n",
    "    )\n",
    "    .groupby(by=['j'])\n",
    "    .agg(\n",
    "        open_time=('time', 'min'),\n",
    "        open=('price', 'first'),\n",
    "        close=('price', 'last'),\n",
    "        low=('price', 'min'),\n",
    "        high=('price', 'max'),\n",
    "    )\n",
    "    .assign(\n",
    "        date=lambda x: (x.open_time/1000).apply(dt.datetime.fromtimestamp),\n",
    "    )\n",
    "    .set_index('date')\n",
    ")"
   ]
  },
  {
   "cell_type": "code",
   "execution_count": null,
   "id": "e7c59acb-c31d-4f23-ad4f-fbc43a46cf82",
   "metadata": {
    "tags": []
   },
   "outputs": [],
   "source": [
    "klines_btc_1m_df.head()[['open_time', 'open', 'close', 'low', 'high']]"
   ]
  },
  {
   "cell_type": "code",
   "execution_count": null,
   "id": "d5edb6a7-a985-4aee-9377-33972af19ae9",
   "metadata": {
    "tags": []
   },
   "outputs": [],
   "source": [
    "klines_from_trades_btc_1m_df.head()"
   ]
  },
  {
   "cell_type": "code",
   "execution_count": null,
   "id": "c0086837-715c-43a2-abac-f29eec6f1d1f",
   "metadata": {
    "tags": []
   },
   "outputs": [],
   "source": [
    "end_ts = klines_from_trades_btc_1m_df.index.min() + dt.timedelta(hours=5)\n",
    "slice_klines_from_trades_df = klines_from_trades_btc_1m_df[lambda x: x.index <= end_ts-dt.timedelta(seconds=-1)]\n",
    "slice_klines_df = klines_btc_1m_df[lambda x: x.index <= end_ts]\n",
    "plt.style.use('dark_background')\n",
    "plt.figure(figsize=(140,40))\n",
    "plt.plot(slice_klines_from_trades_df.index, slice_klines_from_trades_df.open, 'r')\n",
    "plt.plot(slice_klines_df.index, slice_klines_df.open, 'g--')\n",
    "plt.show()"
   ]
  },
  {
   "cell_type": "markdown",
   "id": "8541c50a-b894-4798-bee5-c58d0513e162",
   "metadata": {
    "tags": []
   },
   "source": [
    "### implement this in tradingview with pinescript"
   ]
  },
  {
   "cell_type": "markdown",
   "id": "658548ab-74c0-4c5f-aa7e-962373e71928",
   "metadata": {},
   "source": [
    "```\n",
    "// @version=5\n",
    "indicator(\"scalp_2tops_2024_03_11\", overlay=true)\n",
    "var entersAmount = 0\n",
    "var highsVals = array.new<float>(0)\n",
    "buy = false\n",
    "if time > timestamp(\"2024-03-08\")\n",
    "    highsPoped = array.new<float>(0)\n",
    "    while highsVals.size() > 0\n",
    "        if array.get(highsVals, highsVals.size()-1) < high\n",
    "            highsPoped.push(highsVals.pop())\n",
    "        else\n",
    "            break\n",
    "    array.push(highsVals, high)\n",
    "    if highsPoped.size() > 0\n",
    "        buy := true\n",
    "        entersAmount += 1\n",
    "plotshape(buy, style=shape.xcross)\n",
    "if barstate.islast\n",
    "    log.info(\"entereted trade[long] \" + str.tostring(entersAmount) + \" times\")\n",
    "```"
   ]
  },
  {
   "cell_type": "markdown",
   "id": "ebfe1127-4b50-4f2d-a29c-8cc2da2fa07d",
   "metadata": {
    "tags": []
   },
   "source": [
    "### workout buys with spread"
   ]
  },
  {
   "cell_type": "code",
   "execution_count": null,
   "id": "4a0565cc-f445-40aa-9eed-9908f2be9606",
   "metadata": {
    "tags": []
   },
   "outputs": [],
   "source": [
    "slice_df = klines_btc_1m_df[\n",
    "    lambda x: x.index >= dt.datetime.fromisoformat(\"2024-03-01\")\n",
    "][lambda x: x.index <= dt.datetime.fromisoformat(\"2024-03-07\")]\n",
    "highs_vals = []\n",
    "buys_alines = []\n",
    "spread_val = 300\n",
    "\n",
    "\n",
    "for _, row in slice_df.iterrows():\n",
    "    highs_poped = []\n",
    "    while highs_vals and highs_vals[-1] < row.high:\n",
    "        highs_poped.append(highs_vals.pop())\n",
    "    highs_vals.append(row.high)\n",
    "    if not highs_poped:\n",
    "        continue\n",
    "    if highs_vals[-1] > highs_poped[0] + spread_val:\n",
    "        end_ts = dt.datetime.fromtimestamp(row.open_time / 1000)\n",
    "        start_ts = end_ts - dt.timedelta(minutes=15)\n",
    "        aline = [(start_ts, highs_poped[0]), (end_ts, highs_poped[0])]\n",
    "        buys_alines.append(aline)\n",
    "\n",
    "\n",
    "logger.info(\"buys_alines=%s\", len(buys_alines))\n",
    "mpf.plot(\n",
    "    slice_df,\n",
    "    warn_too_much_data=len(slice_df),\n",
    "    alines={\"alines\": list(buys_alines), \"colors\": [\"#f19d38\"]},\n",
    "    type=\"candle\",\n",
    "    figsize=(140, 40),\n",
    "    style=shared.s,\n",
    ")"
   ]
  }
 ],
 "metadata": {
  "kernelspec": {
   "display_name": "Python 3 (ipykernel)",
   "language": "python",
   "name": "python3"
  },
  "language_info": {
   "codemirror_mode": {
    "name": "ipython",
    "version": 3
   },
   "file_extension": ".py",
   "mimetype": "text/x-python",
   "name": "python",
   "nbconvert_exporter": "python",
   "pygments_lexer": "ipython3",
   "version": "3.10.9"
  }
 },
 "nbformat": 4,
 "nbformat_minor": 5
}
