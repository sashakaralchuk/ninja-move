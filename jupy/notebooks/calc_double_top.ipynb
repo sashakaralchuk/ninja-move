{
 "cells": [
  {
   "cell_type": "code",
   "execution_count": null,
   "id": "953d9b6f-5a4b-427f-8bce-1ea0fc084728",
   "metadata": {},
   "outputs": [],
   "source": [
    "# !pip install binance-historical-data mplfinance pandera"
   ]
  },
  {
   "cell_type": "code",
   "execution_count": null,
   "id": "df2dd3fb-d3d6-4637-ae88-182621861d07",
   "metadata": {
    "tags": []
   },
   "outputs": [],
   "source": [
    "import datetime as dt\n",
    "\n",
    "import mplfinance as mpf\n",
    "import pandas as pd\n",
    "import numpy as np\n",
    "import pandera as pa\n",
    "import matplotlib.pyplot as plt\n",
    "\n",
    "import shared"
   ]
  },
  {
   "cell_type": "code",
   "execution_count": null,
   "id": "58eb6d80-cd46-4a05-9806-d767ea0e6b1f",
   "metadata": {
    "tags": []
   },
   "outputs": [],
   "source": [
    "logger = shared.get_logger()"
   ]
  },
  {
   "cell_type": "code",
   "execution_count": null,
   "id": "38b0849e-a7f3-4510-a360-6a69831954d5",
   "metadata": {
    "tags": []
   },
   "outputs": [],
   "source": [
    "shared.dump_binance_klines(tickers=['BTCUSDT'])"
   ]
  },
  {
   "cell_type": "code",
   "execution_count": null,
   "id": "9bb6561c-02e6-4f5d-8d5a-3d6d39932191",
   "metadata": {
    "tags": []
   },
   "outputs": [],
   "source": [
    "btc_df = shared.read_binance_ticker_data()"
   ]
  },
  {
   "cell_type": "code",
   "execution_count": null,
   "id": "ceccc394-f8fa-41ad-9337-44a3a6b4ec23",
   "metadata": {
    "tags": []
   },
   "outputs": [],
   "source": [
    "interval_secs_map = {\n",
    "    '1m': 60,\n",
    "    '5m': 5*60,\n",
    "    '15m': 15*60,\n",
    "    '1h': 60*60,\n",
    "    '4h': 4*60*60,\n",
    "    '1d': 24*60*60,\n",
    "    '1w': 7*24*60*60,\n",
    "}\n",
    "mc = mpf.make_marketcolors(up='#459782',down='#df484c', edge='inherit', wick='inherit')\n",
    "s  = mpf.make_mpf_style(marketcolors=mc, facecolor='#181b25')"
   ]
  },
  {
   "cell_type": "code",
   "execution_count": null,
   "id": "1d9f2ae5-5b1c-4bc0-9b42-1afa1a71ca79",
   "metadata": {
    "tags": []
   },
   "outputs": [],
   "source": [
    "def split_df(df: pd.DataFrame, interval_str: str) -> pd.DataFrame:\n",
    "    interval_millis = interval_secs_map[interval_str] * 1000\n",
    "    prev_millis, prev_i = df.iloc[0].open_time, 0\n",
    "    out_dfs = []\n",
    "    for i in range(len(df)):\n",
    "        if df.iloc[i].open_time < prev_millis+interval_millis:\n",
    "            continue\n",
    "        slice_df = df.iloc[prev_i:i].assign(open_time=lambda _: prev_millis)\n",
    "        out_dfs.append(slice_df)\n",
    "        prev_millis, prev_i = df.iloc[i].open_time, i\n",
    "    logger.info('len(out_dfs): %s', len(out_dfs))\n",
    "    out_df = (pd.concat(out_dfs)\n",
    "        .groupby(by=['open_time'], as_index=False)\n",
    "        .agg(\n",
    "            open=('open', 'first'),\n",
    "            close=('open', 'last'),\n",
    "            low=('low', 'min'),\n",
    "            high=('high', 'max'),\n",
    "        )\n",
    "        .assign(date=lambda x: x.open_time.apply(lambda x: dt.datetime.fromtimestamp(x/1000)))\n",
    "        .set_index('date')\n",
    "    )\n",
    "    return out_df\n",
    "\n",
    "\n",
    "def find_double_tops_from_to_linear(df: pd.DataFrame) -> list[list[tuple[str, int]]]:\n",
    "    \"\"\"Figures out dounble top based on prev ATH without digging into every candle.\n",
    "    \n",
    "    Examples:\n",
    "    alines_map = find_double_tops_from_to_linear(df=slice_df)\n",
    "    \"\"\"\n",
    "    rows = list(df.iterrows())\n",
    "    out = {}\n",
    "    i = 0\n",
    "    while i<len(rows):\n",
    "        j=i\n",
    "        while j<len(rows) and rows[i][1].high >= rows[j][1].high:\n",
    "            j+=1\n",
    "        if j == len(rows):\n",
    "            break\n",
    "        key = rows[i][1].open_time\n",
    "        x = (rows[i][0], rows[i][1].high)\n",
    "        y = (rows[j][0], rows[i][1].high)\n",
    "        out[key] = [x, y]\n",
    "        i = j\n",
    "    return out"
   ]
  },
  {
   "cell_type": "code",
   "execution_count": null,
   "id": "56ef7753-dad5-4d07-ab9d-78604c08b2ba",
   "metadata": {
    "tags": []
   },
   "outputs": [],
   "source": [
    "btc_15m_df = split_df(df=btc_df, interval_str='15m')\n",
    "btc_1h_df = split_df(df=btc_df, interval_str='1h')"
   ]
  },
  {
   "cell_type": "code",
   "execution_count": null,
   "id": "66c5bb72-af37-4ead-b1b9-d21189488472",
   "metadata": {
    "tags": []
   },
   "outputs": [],
   "source": [
    "mpf.plot(btc_15m_df.iloc[0:50], type='candle', figsize=(14, 4), style=s)"
   ]
  },
  {
   "cell_type": "code",
   "execution_count": null,
   "id": "42dcea8b-61a9-4898-a412-a96d78c1bec3",
   "metadata": {
    "tags": []
   },
   "outputs": [],
   "source": [
    "mpf.plot(btc_1h_df, type='candle', warn_too_much_data=len(btc_1h_df), figsize=(200, 200/3.5), style=s)"
   ]
  },
  {
   "cell_type": "code",
   "execution_count": null,
   "id": "20fec0af-0f0c-49da-8583-419cab98a7a4",
   "metadata": {
    "tags": []
   },
   "outputs": [],
   "source": [
    "class DoubleTopSchema(pa.DataFrameModel):\n",
    "    date: pa.typing.Index[dt.datetime]\n",
    "    open_time: pa.typing.Series[int]\n",
    "    open: pa.typing.Series[float]\n",
    "    close: pa.typing.Series[float]\n",
    "    low: pa.typing.Series[float]\n",
    "    high: pa.typing.Series[float]\n",
    "\n",
    "\n",
    "@pa.check_types\n",
    "def find_double_tops_from_to_lth(\n",
    "    df: pa.typing.DataFrame[DoubleTopSchema],\n",
    "    gain_threshold: float,\n",
    "    interval_threshold: str,\n",
    ") -> list[list[tuple[str, int]]]:\n",
    "    rows = list(df.iterrows())\n",
    "    out = {}\n",
    "    for i in range(len(rows)):\n",
    "        j=i+1\n",
    "        while j<len(rows) and rows[i][1].high >= rows[j][1].high:\n",
    "            j+=1\n",
    "        if j == len(rows):\n",
    "            continue\n",
    "        key = rows[i][1].open_time\n",
    "        x = (rows[i][0], rows[i][1].close)\n",
    "        y = (rows[j][0], rows[i][1].close)\n",
    "        max_gain = (rows[j][1].high - x[1]) / x[1]\n",
    "        if max_gain < gain_threshold:\n",
    "            continue\n",
    "        interval = rows[j][1].open_time - rows[i][1].open_time\n",
    "        if interval > interval_secs_map[interval_threshold]*1000:\n",
    "            continue\n",
    "        out[key] = [x, y]\n",
    "    return out\n",
    "\n",
    "\n",
    "slice_df = btc_15m_df\n",
    "alines_map = find_double_tops_from_to_lth(\n",
    "    df=slice_df,\n",
    "    gain_threshold=0.003,\n",
    "    interval_threshold='1h',\n",
    ")\n",
    "fig, _ = mpf.plot(\n",
    "    slice_df,\n",
    "    type='candle',\n",
    "    warn_too_much_data=len(slice_df),\n",
    "    figsize=(14*15, 4*15),\n",
    "    alines={'alines': list(alines_map.values()), 'colors': ['#f19d38']},\n",
    "    style=s,\n",
    "    returnfig=True,\n",
    ")"
   ]
  }
 ],
 "metadata": {
  "kernelspec": {
   "display_name": "Python 3 (ipykernel)",
   "language": "python",
   "name": "python3"
  },
  "language_info": {
   "codemirror_mode": {
    "name": "ipython",
    "version": 3
   },
   "file_extension": ".py",
   "mimetype": "text/x-python",
   "name": "python",
   "nbconvert_exporter": "python",
   "pygments_lexer": "ipython3",
   "version": "3.10.9"
  }
 },
 "nbformat": 4,
 "nbformat_minor": 5
}
