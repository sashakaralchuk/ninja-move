{
 "cells": [
  {
   "cell_type": "code",
   "execution_count": null,
   "id": "cd30ebff-ed90-42c7-be70-e270d3900178",
   "metadata": {
    "tags": []
   },
   "outputs": [],
   "source": [
    "import datetime as dt\n",
    "\n",
    "import mplfinance as mpf\n",
    "import pandas as pd\n",
    "import numpy as np\n",
    "import pandera as pa\n",
    "import matplotlib.pyplot as plt\n",
    "\n",
    "import shared\n",
    "\n",
    "\n",
    "logger = shared.get_logger()"
   ]
  },
  {
   "cell_type": "code",
   "execution_count": null,
   "id": "6394853d-77bc-49e4-9e76-a383b56840c3",
   "metadata": {
    "tags": []
   },
   "outputs": [],
   "source": [
    "klines_btc_1m_df = shared.read_binance_klines()\n",
    "klines_btc_1h_df = shared.split_df(df=klines_btc_1m_df, interval_str='1h')"
   ]
  },
  {
   "cell_type": "code",
   "execution_count": null,
   "id": "c08f21cb-2012-44d9-b235-4d92e2568aa1",
   "metadata": {
    "tags": []
   },
   "outputs": [],
   "source": [
    "window_prices = []\n",
    "window = 5\n",
    "for i in range(len(klines_btc_1h_df) - window):\n",
    "    start_row = klines_btc_1h_df.iloc[i]\n",
    "    min_price = klines_btc_1h_df[i+1:i+window].low.min()\n",
    "    diff_abs = start_row.high - min_price\n",
    "    diff_rel = diff_abs / start_row.high * 100\n",
    "    o = {'diff_abs': diff_abs, 'diff_rel': diff_rel, 'open_time': start_row.open_time}\n",
    "    window_prices.append(o)\n",
    "window_prices_df = pd.DataFrame(window_prices)"
   ]
  },
  {
   "cell_type": "code",
   "execution_count": null,
   "id": "384a2206-a6f8-4f50-88fe-fdd8cddebfe6",
   "metadata": {
    "tags": []
   },
   "outputs": [],
   "source": [
    "(window_prices_df\n",
    " .assign(\n",
    "     date_str=lambda x: x.open_time.apply(lambda x: dt.datetime.fromtimestamp(x/1000).date().isoformat()),\n",
    "     diff_rel_int=lambda x: x.diff_rel.astype(int),\n",
    " )\n",
    " .sort_values(by=['diff_rel'], ascending=False)\n",
    " .drop_duplicates(subset=['date_str'])\n",
    " .groupby(by=['diff_rel_int'], as_index=False)\n",
    " .agg(amount=('open_time', 'count'))\n",
    " .sort_values(by=['diff_rel_int'])\n",
    ")"
   ]
  },
  {
   "cell_type": "code",
   "execution_count": null,
   "id": "2d05c4f2-d177-4e0b-a6e3-2916241acbf1",
   "metadata": {
    "tags": []
   },
   "outputs": [],
   "source": [
    "(window_prices_df\n",
    " [lambda x: x.diff_rel > 4]\n",
    " .sort_values(by=['open_time', 'diff_rel'])\n",
    " .assign(date_str=lambda x: x.open_time.apply(lambda x: dt.datetime.fromtimestamp(x/1000).date().isoformat()))\n",
    " .drop_duplicates(subset=['date_str'], keep='first')\n",
    ")"
   ]
  },
  {
   "cell_type": "code",
   "execution_count": null,
   "id": "d97bc4be-5290-4d3a-ac81-7781cc3c461a",
   "metadata": {
    "tags": []
   },
   "outputs": [],
   "source": [
    "date_start_str, date_end_str = '2024-01-01', '2024-01-10'\n",
    "slice_df = (klines_btc_1h_df\n",
    "    [lambda x: x.index >= dt.datetime.fromisoformat(date_start_str)]\n",
    "    [lambda x: x.index <= dt.datetime.fromisoformat(date_end_str)]\n",
    ")\n",
    "_, ax_list = mpf.plot(\n",
    "    slice_df,\n",
    "    warn_too_much_data=len(slice_df),\n",
    "    type='candle',\n",
    "    figsize=(14, 6),\n",
    "    style=shared.s,\n",
    "    volume=True,\n",
    "    returnfig=True,\n",
    "    xrotation=90,\n",
    "    ema=(30, 60, 120),\n",
    ")\n",
    "ticks = pd.date_range(slice_df.index.min(), slice_df.index.max(), freq='1d')\n",
    "ticks_locations = [slice_df.index.get_loc(tick) for tick in ticks]\n",
    "tick_labels = [tick.strftime('%Y-%m-%d %H:%M') for tick in ticks]\n",
    "_ = ax_list[-2].xaxis.set_ticks(ticks_locations)\n",
    "_ = ax_list[-2].set_xticklabels(tick_labels)"
   ]
  }
 ],
 "metadata": {
  "kernelspec": {
   "display_name": "Python 3 (ipykernel)",
   "language": "python",
   "name": "python3"
  },
  "language_info": {
   "codemirror_mode": {
    "name": "ipython",
    "version": 3
   },
   "file_extension": ".py",
   "mimetype": "text/x-python",
   "name": "python",
   "nbconvert_exporter": "python",
   "pygments_lexer": "ipython3",
   "version": "3.10.9"
  }
 },
 "nbformat": 4,
 "nbformat_minor": 5
}
