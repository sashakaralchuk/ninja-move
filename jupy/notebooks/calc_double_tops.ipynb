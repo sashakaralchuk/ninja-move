{
 "cells": [
  {
   "cell_type": "code",
   "execution_count": null,
   "id": "df2dd3fb-d3d6-4637-ae88-182621861d07",
   "metadata": {
    "tags": []
   },
   "outputs": [],
   "source": [
    "import datetime as dt\n",
    "\n",
    "import mplfinance as mpf\n",
    "import pandas as pd\n",
    "import numpy as np\n",
    "import pandera as pa\n",
    "import matplotlib.pyplot as plt\n",
    "\n",
    "import shared\n",
    "\n",
    "\n",
    "logger = shared.get_logger()"
   ]
  },
  {
   "cell_type": "code",
   "execution_count": null,
   "id": "9bb6561c-02e6-4f5d-8d5a-3d6d39932191",
   "metadata": {
    "tags": []
   },
   "outputs": [],
   "source": [
    "klines_btc_1m_df = shared.read_binance_klines()"
   ]
  },
  {
   "cell_type": "code",
   "execution_count": null,
   "id": "1d9f2ae5-5b1c-4bc0-9b42-1afa1a71ca79",
   "metadata": {
    "tags": []
   },
   "outputs": [],
   "source": [
    "def find_double_tops_from_to_linear(df: pd.DataFrame) -> list[list[tuple[str, int]]]:\n",
    "    \"\"\"Figures out dounble top based on prev ATH without digging into every candle.\n",
    "    \n",
    "    Examples:\n",
    "    alines_map = find_double_tops_from_to_linear(df=slice_df)\n",
    "    \"\"\"\n",
    "    rows = list(df.iterrows())\n",
    "    out = {}\n",
    "    i = 0\n",
    "    while i<len(rows):\n",
    "        j=i\n",
    "        while j<len(rows) and rows[i][1].high >= rows[j][1].high:\n",
    "            j+=1\n",
    "        if j == len(rows):\n",
    "            break\n",
    "        key = rows[i][1].open_time\n",
    "        x = (rows[i][0], rows[i][1].high)\n",
    "        y = (rows[j][0], rows[i][1].high)\n",
    "        out[key] = [x, y]\n",
    "        i = j\n",
    "    return out"
   ]
  },
  {
   "cell_type": "code",
   "execution_count": null,
   "id": "56ef7753-dad5-4d07-ab9d-78604c08b2ba",
   "metadata": {
    "tags": []
   },
   "outputs": [],
   "source": [
    "klines_btc_15m_df = shared.split_df(df=klines_btc_1m_df, interval_str='15m')\n",
    "klines_btc_1h_df = shared.split_df(df=klines_btc_1m_df, interval_str='1h')"
   ]
  },
  {
   "cell_type": "code",
   "execution_count": null,
   "id": "66c5bb72-af37-4ead-b1b9-d21189488472",
   "metadata": {
    "tags": []
   },
   "outputs": [],
   "source": [
    "mpf.plot(klines_btc_15m_df.iloc[0:50], type='candle', figsize=(14, 4), style=shared.s)"
   ]
  },
  {
   "cell_type": "code",
   "execution_count": null,
   "id": "42dcea8b-61a9-4898-a412-a96d78c1bec3",
   "metadata": {
    "tags": []
   },
   "outputs": [],
   "source": [
    "mpf.plot(klines_btc_1h_df, type='candle', warn_too_much_data=len(klines_btc_1h_df), figsize=(200, 200/3.5), style=shared.s)"
   ]
  },
  {
   "cell_type": "code",
   "execution_count": null,
   "id": "20fec0af-0f0c-49da-8583-419cab98a7a4",
   "metadata": {
    "tags": []
   },
   "outputs": [],
   "source": [
    "class DoubleTopSchema(pa.DataFrameModel):\n",
    "    date: pa.typing.Index[dt.datetime]\n",
    "    open_time: pa.typing.Series[float]\n",
    "    open: pa.typing.Series[float]\n",
    "    close: pa.typing.Series[float]\n",
    "    low: pa.typing.Series[float]\n",
    "    high: pa.typing.Series[float]\n",
    "\n",
    "\n",
    "@pa.check_types\n",
    "def find_double_tops_from_to_lth(\n",
    "    df: pa.typing.DataFrame[DoubleTopSchema],\n",
    "    gain_threshold: float,\n",
    "    interval_threshold: str,\n",
    ") -> list[list[tuple[str, int]]]:\n",
    "    rows = list(df.iterrows())\n",
    "    out = {}\n",
    "    for i in range(len(rows)):\n",
    "        j=i+1\n",
    "        while j<len(rows) and rows[i][1].high >= rows[j][1].high:\n",
    "            j+=1\n",
    "        if j == len(rows):\n",
    "            continue\n",
    "        key = rows[i][1].open_time\n",
    "        x = (rows[i][0], rows[i][1].close)\n",
    "        y = (rows[j][0], rows[i][1].close)\n",
    "        max_gain = (rows[j][1].high - x[1]) / x[1]\n",
    "        if max_gain < gain_threshold:\n",
    "            continue\n",
    "        interval = rows[j][1].open_time - rows[i][1].open_time\n",
    "        if interval > shared.interval_secs_map[interval_threshold]*1000:\n",
    "            continue\n",
    "        out[key] = [x, y]\n",
    "    return out\n",
    "\n",
    "\n",
    "slice_df = klines_btc_15m_df\n",
    "alines_map = find_double_tops_from_to_lth(\n",
    "    df=slice_df,\n",
    "    gain_threshold=0.003,\n",
    "    interval_threshold='1h',\n",
    ")\n",
    "fig, _ = mpf.plot(\n",
    "    slice_df,\n",
    "    type='candle',\n",
    "    warn_too_much_data=len(slice_df),\n",
    "    figsize=(14*15, 4*15),\n",
    "    alines={'alines': list(alines_map.values()), 'colors': ['#f19d38']},\n",
    "    style=shared.s,\n",
    "    returnfig=True,\n",
    ")"
   ]
  }
 ],
 "metadata": {
  "kernelspec": {
   "display_name": "Python 3 (ipykernel)",
   "language": "python",
   "name": "python3"
  },
  "language_info": {
   "codemirror_mode": {
    "name": "ipython",
    "version": 3
   },
   "file_extension": ".py",
   "mimetype": "text/x-python",
   "name": "python",
   "nbconvert_exporter": "python",
   "pygments_lexer": "ipython3",
   "version": "3.10.9"
  }
 },
 "nbformat": 4,
 "nbformat_minor": 5
}
