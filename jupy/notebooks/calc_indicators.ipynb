{
 "cells": [
  {
   "cell_type": "code",
   "execution_count": null,
   "id": "3d3f71f9-4029-490b-94ff-b1215fc8d4e6",
   "metadata": {
    "tags": []
   },
   "outputs": [],
   "source": [
    "import os\n",
    "\n",
    "import pandas as pd\n",
    "import matplotlib.pyplot as plt\n",
    "\n",
    "from shared import read_matic_k_lines"
   ]
  },
  {
   "cell_type": "code",
   "execution_count": null,
   "id": "c27eae40-780c-4686-8a32-95724d677798",
   "metadata": {
    "tags": []
   },
   "outputs": [],
   "source": [
    "matic_df = read_matic_k_lines().head(1_000)"
   ]
  },
  {
   "cell_type": "markdown",
   "id": "d3fe83f9-4d0e-4f65-8749-ea34802b35e6",
   "metadata": {},
   "source": [
    "### rsi"
   ]
  },
  {
   "cell_type": "code",
   "execution_count": null,
   "id": "706e15ce-b53a-429e-8052-b8e263ed03c8",
   "metadata": {
    "tags": []
   },
   "outputs": [],
   "source": [
    "change_ser = matic_df.close.diff()\n",
    "change_up_ser = change_ser.dropna()\n",
    "change_down_ser = change_ser.dropna()\n",
    "change_up_ser[change_up_ser < 0] = 0\n",
    "change_down_ser[change_down_ser > 0] = 0\n",
    "assert change_ser.dropna().equals(change_up_ser + change_down_ser)\n",
    "avg_up_ser = change_up_ser.rolling(14).mean()\n",
    "avg_down_ser = change_down_ser.rolling(14).mean().abs()\n",
    "rsi_ser = 100 * avg_up_ser / (avg_up_ser + avg_down_ser)"
   ]
  },
  {
   "cell_type": "code",
   "execution_count": null,
   "id": "890b5a4c-2ec6-4294-8d74-d911910475cf",
   "metadata": {
    "tags": []
   },
   "outputs": [],
   "source": [
    "plt.style.use('fivethirtyeight')\n",
    "plt.rcParams['figure.figsize'] = (14, 8)\n",
    "ax1 = plt.subplot2grid((10,1), (0,0), rowspan = 4, colspan = 1)\n",
    "ax2 = plt.subplot2grid((10,1), (5,0), rowspan = 4, colspan = 1)\n",
    "ax1.plot(matic_df.close, linewidth=2)\n",
    "ax1.set_title('Matic Close Price')\n",
    "ax2.set_title('Relative Strength Index')\n",
    "ax2.plot(rsi_ser, color='orange', linewidth=1)\n",
    "ax2.axhline(30, linestyle='--', linewidth=1.5, color='green')\n",
    "ax2.axhline(70, linestyle='--', linewidth=1.5, color='red')\n",
    "plt.show()"
   ]
  }
 ],
 "metadata": {
  "kernelspec": {
   "display_name": "Python 3 (ipykernel)",
   "language": "python",
   "name": "python3"
  },
  "language_info": {
   "codemirror_mode": {
    "name": "ipython",
    "version": 3
   },
   "file_extension": ".py",
   "mimetype": "text/x-python",
   "name": "python",
   "nbconvert_exporter": "python",
   "pygments_lexer": "ipython3",
   "version": "3.10.9"
  }
 },
 "nbformat": 4,
 "nbformat_minor": 5
}
