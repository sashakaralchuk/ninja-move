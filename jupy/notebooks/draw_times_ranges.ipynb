{
 "cells": [
  {
   "cell_type": "code",
   "execution_count": null,
   "id": "027f53c7-ae95-4d65-948c-16ed9fa9a3de",
   "metadata": {
    "tags": []
   },
   "outputs": [],
   "source": [
    "%load_ext lab_black"
   ]
  },
  {
   "cell_type": "code",
   "execution_count": null,
   "id": "9672ec1f-22e4-4567-bca9-ce18bb79e5a0",
   "metadata": {
    "tags": []
   },
   "outputs": [],
   "source": [
    "import datetime as dt\n",
    "\n",
    "import mplfinance as mpf\n",
    "import pandas as pd\n",
    "import numpy as np\n",
    "import pandera as pa\n",
    "\n",
    "import shared\n",
    "\n",
    "\n",
    "logger = shared.get_logger()"
   ]
  },
  {
   "cell_type": "code",
   "execution_count": null,
   "id": "37bdfa01-4695-4488-9e08-394e424457c1",
   "metadata": {
    "tags": []
   },
   "outputs": [],
   "source": [
    "klines_btc_1m_df = shared.read_binance_klines()\n",
    "klines_btc_1h_df = shared.split_df(df=klines_btc_1m_df, interval_str=\"1h\")"
   ]
  },
  {
   "cell_type": "markdown",
   "id": "d3f6601d-3853-41b2-8272-b403b9b38cf4",
   "metadata": {},
   "source": [
    "### weekends-pumps-dumps on 2024-03-30"
   ]
  },
  {
   "cell_type": "code",
   "execution_count": null,
   "id": "1ecec0af-283d-43d8-9471-13fbba34f079",
   "metadata": {
    "tags": []
   },
   "outputs": [],
   "source": [
    "sundays_list = pd.date_range(start=\"2023-08-01\", end=\"2024-03-30\", freq=\"W\").tolist()\n",
    "weekeds_dt_ranges = [\n",
    "    (sunday_dt - dt.timedelta(days=2), sunday_dt + dt.timedelta(days=1))\n",
    "    for sunday_dt in sundays_list\n",
    "]\n",
    "dt_threshold = dt.datetime.fromisoformat(\"2023-08-01\")\n",
    "for dt_start, dt_end in weekeds_dt_ranges:\n",
    "    slice_df = klines_btc_1h_df[lambda x: x.index >= dt_threshold][\n",
    "        lambda x: x.index >= dt_start\n",
    "    ][lambda x: x.index <= dt_end]\n",
    "    fig, axlist = mpf.plot(\n",
    "        slice_df,\n",
    "        warn_too_much_data=len(slice_df),\n",
    "        type=\"candle\",\n",
    "        figsize=(14, 3),\n",
    "        style=shared.s,\n",
    "        returnfig=True,\n",
    "        vlines={\n",
    "            \"vlines\": [(dt_start + dt.timedelta(days=1)).date()],\n",
    "            \"linewidths\": 0.2,\n",
    "        },\n",
    "    )\n",
    "    max_diff_abs = slice_df.high.max() - slice_df.low.min()\n",
    "    max_diff_rel = (max_diff_abs / slice_df.low.min()) * 100\n",
    "    x_label = f\"[{dt_start.date()} - {dt_end.date()}] max_diff_rel={max_diff_rel:.2f}\"\n",
    "    axlist[-2].set_xlabel(x_label)\n",
    "    axlist[-2].xaxis.set_ticklabels([])"
   ]
  },
  {
   "cell_type": "markdown",
   "id": "cf1044ba-12c6-4222-8f8c-8bf936c5c674",
   "metadata": {},
   "source": [
    "### aprils on 2024-04-02"
   ]
  },
  {
   "cell_type": "code",
   "execution_count": null,
   "id": "1f3452a8-e55c-47d0-a4a4-256141c44ddb",
   "metadata": {
    "tags": []
   },
   "outputs": [],
   "source": [
    "for year in [2023, 2022, 2021, 2020, 2019, 2018]:\n",
    "    dt_start = dt.datetime.fromisoformat(f\"{year}-04-01\")\n",
    "    dt_end = dt.datetime.fromisoformat(f\"{year}-05-01\")\n",
    "    slice_df = klines_btc_1h_df[lambda x: x.index >= dt_start][\n",
    "        lambda x: x.index <= dt_end\n",
    "    ]\n",
    "    fig, axlist = mpf.plot(\n",
    "        slice_df,\n",
    "        warn_too_much_data=len(slice_df),\n",
    "        type=\"candle\",\n",
    "        figsize=(14, 3),\n",
    "        style=shared.s,\n",
    "        returnfig=True,\n",
    "    )\n",
    "    max_diff_abs = slice_df.high.max() - slice_df.low.min()\n",
    "    max_diff_rel = (max_diff_abs / slice_df.low.min()) * 100\n",
    "    x_label = f\"[{dt_start.date()} - {dt_end.date()}] max_diff_rel={max_diff_rel:.2f}\"\n",
    "    axlist[-2].set_xlabel(x_label)\n",
    "    axlist[-2].xaxis.set_ticklabels([])"
   ]
  }
 ],
 "metadata": {
  "kernelspec": {
   "display_name": "Python 3 (ipykernel)",
   "language": "python",
   "name": "python3"
  },
  "language_info": {
   "codemirror_mode": {
    "name": "ipython",
    "version": 3
   },
   "file_extension": ".py",
   "mimetype": "text/x-python",
   "name": "python",
   "nbconvert_exporter": "python",
   "pygments_lexer": "ipython3",
   "version": "3.10.9"
  }
 },
 "nbformat": 4,
 "nbformat_minor": 5
}
