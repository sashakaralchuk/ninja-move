{
 "cells": [
  {
   "cell_type": "code",
   "execution_count": null,
   "id": "99c9c106-66ec-4738-b249-381251ed946c",
   "metadata": {
    "tags": []
   },
   "outputs": [],
   "source": [
    "import os\n",
    "import datetime as dt\n",
    "\n",
    "import pandas as pd\n",
    "import matplotlib.pyplot as plt\n",
    "\n",
    "from shared import read_matic_k_lines"
   ]
  },
  {
   "cell_type": "code",
   "execution_count": null,
   "id": "85742b93-8cf5-4fb3-bc2b-545833dc16dc",
   "metadata": {
    "tags": []
   },
   "outputs": [],
   "source": [
    "matic_df = read_matic_k_lines()"
   ]
  },
  {
   "cell_type": "code",
   "execution_count": null,
   "id": "e0c5eec4-cdbe-489f-aad0-c2560e702a92",
   "metadata": {
    "tags": []
   },
   "outputs": [],
   "source": [
    "start_time = dt.datetime.strptime('2023-08-01', '%Y-%m-%d')\n",
    "end_time = dt.datetime.strptime('2023-12-01', '%Y-%m-%d')\n",
    "matic_df_08_12 = matic_df \\\n",
    "    .assign(_open_time=lambda x: (x.open_time / 1000).apply(dt.datetime.utcfromtimestamp)) \\\n",
    "    [lambda x: (x._open_time >= start_time) & (x._open_time <= end_time)]"
   ]
  },
  {
   "cell_type": "code",
   "execution_count": null,
   "id": "6a0bcbc4-e5c0-441b-a359-d31953b5a370",
   "metadata": {
    "tags": []
   },
   "outputs": [],
   "source": [
    "def draw_candles() -> None:\n",
    "    matic_df_08_12_ = matic_df_08_12.set_index('_open_time').sort_values(by=['open_time'])\n",
    "    plt.figure()\n",
    "    up = matic_df_08_12_[matic_df_08_12_.close >= matic_df_08_12_.open] \n",
    "    down = matic_df_08_12_[matic_df_08_12_.close < matic_df_08_12_.open] \n",
    "    col1 = 'blue'\n",
    "    col2 = 'green'\n",
    "    width = .3\n",
    "    width2 = .03\n",
    "    plt.bar(up.index, up.close-up.open, width, bottom=up.open, color=col1) \n",
    "    plt.bar(up.index, up.high-up.close, width2, bottom=up.close, color=col1) \n",
    "    plt.bar(up.index, up.low-up.open, width2, bottom=up.open, color=col1) \n",
    "    plt.bar(down.index, down.close-down.open, width, bottom=down.open, color=col2) \n",
    "    plt.bar(down.index, down.high-down.open, width2, bottom=down.open, color=col2) \n",
    "    plt.bar(down.index, down.low-down.close, width2, bottom=down.close, color=col2) \n",
    "    plt.xticks(rotation=30, ha='right') \n",
    "    plt.show() \n",
    "# draw_candles()"
   ]
  },
  {
   "cell_type": "code",
   "execution_count": null,
   "id": "4b5e592b-a9b6-4cf0-9f4e-7592c62491e8",
   "metadata": {
    "tags": []
   },
   "outputs": [],
   "source": [
    "def gen_plot_img() -> None:\n",
    "    matic_df_ = matic_df_08_12.sort_values(by=['open_time'])\n",
    "    plt.figure(figsize=(25,5))\n",
    "    plt.plot(matic_df_._open_time, matic_df_.open, label='open')\n",
    "    plt.legend()\n",
    "    plt.show()\n",
    "gen_plot_img()"
   ]
  },
  {
   "cell_type": "code",
   "execution_count": null,
   "id": "a7537fed-cc82-4212-a2da-338c59dba167",
   "metadata": {},
   "outputs": [],
   "source": [
    "def "
   ]
  }
 ],
 "metadata": {
  "kernelspec": {
   "display_name": "Python 3 (ipykernel)",
   "language": "python",
   "name": "python3"
  },
  "language_info": {
   "codemirror_mode": {
    "name": "ipython",
    "version": 3
   },
   "file_extension": ".py",
   "mimetype": "text/x-python",
   "name": "python",
   "nbconvert_exporter": "python",
   "pygments_lexer": "ipython3",
   "version": "3.10.9"
  }
 },
 "nbformat": 4,
 "nbformat_minor": 5
}
