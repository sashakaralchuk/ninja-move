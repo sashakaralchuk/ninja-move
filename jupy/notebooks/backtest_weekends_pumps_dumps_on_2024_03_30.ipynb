{
 "cells": [
  {
   "cell_type": "code",
   "execution_count": null,
   "id": "027f53c7-ae95-4d65-948c-16ed9fa9a3de",
   "metadata": {
    "tags": []
   },
   "outputs": [],
   "source": [
    "%load_ext lab_black"
   ]
  },
  {
   "cell_type": "code",
   "execution_count": null,
   "id": "9672ec1f-22e4-4567-bca9-ce18bb79e5a0",
   "metadata": {
    "tags": []
   },
   "outputs": [],
   "source": [
    "import datetime as dt\n",
    "\n",
    "import mplfinance as mpf\n",
    "import pandas as pd\n",
    "import numpy as np\n",
    "import pandera as pa\n",
    "\n",
    "import shared\n",
    "\n",
    "\n",
    "logger = shared.get_logger()"
   ]
  },
  {
   "cell_type": "code",
   "execution_count": null,
   "id": "37bdfa01-4695-4488-9e08-394e424457c1",
   "metadata": {
    "tags": []
   },
   "outputs": [],
   "source": [
    "klines_btc_1m_df = shared.read_binance_klines()\n",
    "klines_btc_1h_df = shared.split_df(df=klines_btc_1m_df, interval_str=\"1h\")"
   ]
  },
  {
   "cell_type": "code",
   "execution_count": null,
   "id": "1ecec0af-283d-43d8-9471-13fbba34f079",
   "metadata": {
    "tags": []
   },
   "outputs": [],
   "source": [
    "sundays_list = pd.date_range(start=\"2023-08-01\", end=\"2024-03-30\", freq=\"W\").tolist()\n",
    "weekeds_dt_ranges = [\n",
    "    (sunday_dt - dt.timedelta(days=2), sunday_dt + dt.timedelta(days=1))\n",
    "    for sunday_dt in sundays_list\n",
    "]\n",
    "for dt_start, dt_end in weekeds_dt_ranges:\n",
    "    slice_df = klines_btc_1h_df[lambda x: x.index >= dt_start][\n",
    "        lambda x: x.index <= dt_end\n",
    "    ]\n",
    "    fig, axlist = mpf.plot(\n",
    "        slice_df,\n",
    "        warn_too_much_data=len(slice_df),\n",
    "        type=\"candle\",\n",
    "        figsize=(14, 3),\n",
    "        style=shared.s,\n",
    "        returnfig=True,\n",
    "        vlines={\n",
    "            \"vlines\": [(dt_start + dt.timedelta(days=1)).date()],\n",
    "            \"linewidths\": 0.2,\n",
    "        },\n",
    "    )\n",
    "    max_diff_abs = slice_df.high.max() - slice_df.low.min()\n",
    "    max_diff_rel = (max_diff_abs / slice_df.low.min()) * 100\n",
    "    x_label = f\"[{dt_start.date()} - {dt_end.date()}] max_diff_rel={max_diff_rel:.2f}\"\n",
    "    axlist[-2].set_xlabel(x_label)\n",
    "    axlist[-2].xaxis.set_ticklabels([])"
   ]
  }
 ],
 "metadata": {
  "kernelspec": {
   "display_name": "Python 3 (ipykernel)",
   "language": "python",
   "name": "python3"
  },
  "language_info": {
   "codemirror_mode": {
    "name": "ipython",
    "version": 3
   },
   "file_extension": ".py",
   "mimetype": "text/x-python",
   "name": "python",
   "nbconvert_exporter": "python",
   "pygments_lexer": "ipython3",
   "version": "3.10.9"
  }
 },
 "nbformat": 4,
 "nbformat_minor": 5
}
