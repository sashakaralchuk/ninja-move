{
 "cells": [
  {
   "cell_type": "code",
   "execution_count": null,
   "id": "dc0a442f-1b32-4e39-9264-122c6de2449f",
   "metadata": {
    "tags": []
   },
   "outputs": [],
   "source": [
    "import os\n",
    "import io\n",
    "import json\n",
    "import pathlib\n",
    "import datetime as dt\n",
    "\n",
    "import pycurl\n",
    "import pandas as pd\n",
    "\n",
    "import shared\n",
    "\n",
    "\n",
    "logger = shared.get_logger()"
   ]
  },
  {
   "cell_type": "code",
   "execution_count": null,
   "id": "410d7b81-2678-4d79-bf07-42961331e3b7",
   "metadata": {
    "tags": []
   },
   "outputs": [],
   "source": [
    "date_start = dt.datetime.strptime('08.01.2023', '%m.%d.%Y').date()\n",
    "date_end = dt.datetime.strptime('04.01.2024', '%m.%d.%Y').date()"
   ]
  },
  {
   "cell_type": "code",
   "execution_count": null,
   "id": "9fef544b-7379-48a1-82a7-4c75ccce43cb",
   "metadata": {
    "tags": []
   },
   "outputs": [],
   "source": [
    "def download_spot_1m_btc_klines(date: dt.date) -> pd.DataFrame:\n",
    "    columns = ['open_time', 'open', 'high', 'low', 'close', 'volume',\n",
    "               'kline_close_time', 'quote_asset_volume', 'number_of_trades',\n",
    "               'taker_buy_base_asset_volume', 'taker_buy_quote_asset_volume',\n",
    "               't']\n",
    "    url = (\n",
    "        'https://www.binance.com/bapi/bigdata'\n",
    "        '/v1/public/bigdata/finance/exchange/listDownloadData2'\n",
    "    )\n",
    "    body_dict = {\n",
    "        \"bizType\": \"SPOT\",\n",
    "        \"productName\": \"klines\",\n",
    "        \"symbolRequestItems\":[{\n",
    "            \"endDay\": date.isoformat(),\n",
    "            \"granularityList\": [\"1m\"],\n",
    "            \"interval\": \"daily\",\n",
    "            \"startDay\": date.isoformat(),\n",
    "            \"symbol\": \"BTCUSDT\",\n",
    "        }],\n",
    "    }\n",
    "    body_str = json.dumps(body_dict)\n",
    "    req_body_buf = io.StringIO(body_str)\n",
    "    res_body_buf = io.BytesIO()\n",
    "    curl = pycurl.Curl()\n",
    "    curl.setopt(pycurl.URL, url)\n",
    "    curl.setopt(pycurl.HTTPHEADER, ['Content-Type: application/json'])\n",
    "    curl.setopt(pycurl.POST, 1)\n",
    "    curl.setopt(pycurl.TIMEOUT_MS, 3000)\n",
    "    curl.setopt(pycurl.READDATA, req_body_buf) \n",
    "    curl.setopt(pycurl.POSTFIELDSIZE, len(body_str))\n",
    "    curl.setopt(pycurl.WRITEDATA, res_body_buf)\n",
    "    curl.perform()\n",
    "    status_code = curl.getinfo(pycurl.RESPONSE_CODE)\n",
    "    curl.close()\n",
    "    assert status_code == 200\n",
    "    res_body_buf.seek(0)\n",
    "    res_body_str = res_body_buf.read().decode()\n",
    "    logger.debug('downloaded meta data for %s', date)\n",
    "    downloaded_list = json.loads(res_body_str)['data']['downloadItemList']\n",
    "    if len(downloaded_list) == 0:\n",
    "        logger.debug('there is no data on %s', date)\n",
    "        return pd.DataFrame([], columns=columns)\n",
    "    assert len(downloaded_list) == 1\n",
    "    file_url = downloaded_list[0]['url']\n",
    "    out_df = pd.read_csv(file_url, header=None, names=columns)\n",
    "    logger.debug('downloaded content for %s', date)\n",
    "    return out_df"
   ]
  },
  {
   "cell_type": "code",
   "execution_count": null,
   "id": "86d69b33-3dda-4a5a-8d6d-e48b9bbc3bf2",
   "metadata": {
    "tags": []
   },
   "outputs": [],
   "source": [
    "dest_dir_path_str = '/home/jovyan/.var/binance-local/spot/klines/1m/BTCUSDT'\n",
    "dest_dir_path = pathlib.Path(dest_dir_path_str)\n",
    "os.makedirs(dest_dir_path, exist_ok=True)\n",
    "date = date_start\n",
    "while date <= date_end:\n",
    "    day_df = download_spot_1m_btc_klines(date=date)\n",
    "    if day_df.empty:\n",
    "        logger.info('there is not data on %s', date)\n",
    "    else:\n",
    "        file_name = f'BTCUSDT-klines-{date.isoformat()}.csv'\n",
    "        file_path = dest_dir_path / file_name\n",
    "        day_df.to_csv(file_path, index=False)\n",
    "        logger.info('saved for %s in %s', date, file_path)\n",
    "    date = date + dt.timedelta(days=1)\n",
    "logger.info('loaded for %s - %s', date_start, date_end)"
   ]
  }
 ],
 "metadata": {
  "kernelspec": {
   "display_name": "Python 3 (ipykernel)",
   "language": "python",
   "name": "python3"
  },
  "language_info": {
   "codemirror_mode": {
    "name": "ipython",
    "version": 3
   },
   "file_extension": ".py",
   "mimetype": "text/x-python",
   "name": "python",
   "nbconvert_exporter": "python",
   "pygments_lexer": "ipython3",
   "version": "3.10.9"
  }
 },
 "nbformat": 4,
 "nbformat_minor": 5
}
