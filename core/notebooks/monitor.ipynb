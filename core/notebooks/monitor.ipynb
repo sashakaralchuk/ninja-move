{
 "cells": [
  {
   "cell_type": "code",
   "execution_count": null,
   "id": "a603c352-dde1-4e38-aa46-0039b4c7e346",
   "metadata": {
    "tags": []
   },
   "outputs": [],
   "source": [
    "import os\n",
    "import typing\n",
    "import datetime as dt\n",
    "\n",
    "import psycopg2\n",
    "import pandas as pd"
   ]
  },
  {
   "cell_type": "code",
   "execution_count": null,
   "id": "a0719b33-0763-43e3-85d6-da8fd135886d",
   "metadata": {
    "tags": []
   },
   "outputs": [],
   "source": [
    "pd.set_option('display.max_rows', 200)\n",
    "pd.set_option('display.float_format', lambda x: '%.9f' % x)"
   ]
  },
  {
   "cell_type": "code",
   "execution_count": null,
   "id": "e58b16f9-4372-4c26-a75b-982ff6679fbe",
   "metadata": {
    "tags": []
   },
   "outputs": [],
   "source": [
    "conn_postgres = psycopg2.connect(os.environ['POSTGRES_DRIVER_STR'])"
   ]
  },
  {
   "cell_type": "code",
   "execution_count": null,
   "id": "06b9dc9d-ddc1-4443-a2ba-629dd353842c",
   "metadata": {
    "tags": []
   },
   "outputs": [],
   "source": [
    "def _min_max_spreads(df: pd.DataFrame) -> pd.DataFrame:\n",
    "    min_ = df[df.symbol.apply(lambda x: x in common_symbols)] \\\n",
    "        .sort_values(by=['spread_percents'], ascending=True) \\\n",
    "        .drop_duplicates(subset=['exchange', 'symbol'])\n",
    "    max_ = df[df.symbol.apply(lambda x: x in common_symbols)] \\\n",
    "        .sort_values(by=['spread_percents'], ascending=False) \\\n",
    "        .drop_duplicates(subset=['exchange', 'symbol'])\n",
    "    return min_.merge(max_, on=['symbol', 'exchange']).assign(\n",
    "        spread_max=lambda x: x.spread_percents_y - x.spread_percents_x,\n",
    "    )\n",
    "\n",
    "def _to_postgres(t: dt.datetime) -> str:\n",
    "    return t.strftime('%Y-%m-%d %H:%M:%S')\n",
    "\n",
    "def _spreads_df(get_df: typing.Callable[[str, str], pd.DataFrame]) -> pd.DataFrame:\n",
    "    now = dt.datetime.strptime('07-29-2023', '%m-%d-%Y')\n",
    "    spreads = []\n",
    "    while now < dt.datetime.utcnow():\n",
    "        start = _to_postgres(now)\n",
    "        end = _to_postgres(now + dt.timedelta(hours=1, seconds=-1))\n",
    "        now += dt.timedelta(hours=1)\n",
    "        spreads_df = get_df(start=start, end=end)\n",
    "        print('start: {}, end: {}, spreads_df.len: {}'.format(start, end, len(spreads_df)))\n",
    "        if spreads_df.empty:\n",
    "            continue\n",
    "        min_max_spreads = spreads_df[lambda x: x.symbol.apply(lambda x: x in common_symbols)] \\\n",
    "            .pipe(_min_max_spreads)\n",
    "        spreads.append(min_max_spreads)\n",
    "\n",
    "    return pd.concat(spreads)\n",
    "\n",
    "def _to_csv(df: pd.DataFrame, filename: str) -> None:\n",
    "    spreads_v1_df \\\n",
    "        .groupby(by=['symbol', 'exchange']) \\\n",
    "        .agg(\n",
    "            spread_percents_min=('spread_percents_x', min),\n",
    "            spread_percents_max=('spread_percents_y', max),\n",
    "            spread_max=('spread_max', max)\n",
    "        ) \\\n",
    "        .sort_values(by=['spread_percents_max'], ascending=False) \\\n",
    "        .to_csv(filename)"
   ]
  },
  {
   "cell_type": "code",
   "execution_count": null,
   "id": "ed4fcd9b-d497-49e3-a76d-4f01a4d41b87",
   "metadata": {
    "tags": []
   },
   "outputs": [],
   "source": [
    "amount_df = pd.read_sql_query('''\n",
    "    select symbol, exchange, count(*) as amount\n",
    "    from monitoring_spread_v2\n",
    "    group by symbol, exchange\n",
    "''', conn_postgres)\n",
    "\n",
    "binance_symbols = set(amount_df[lambda x: x.exchange == 'binance'].symbol)\n",
    "gateio_symbols = set(amount_df[lambda x: x.exchange == 'gateio'].symbol)\n",
    "common_symbols = binance_symbols.intersection(gateio_symbols)"
   ]
  },
  {
   "cell_type": "markdown",
   "id": "8c33c9df-e815-42f4-806b-7583e0a71bab",
   "metadata": {
    "tags": []
   },
   "source": [
    "### v1"
   ]
  },
  {
   "cell_type": "code",
   "execution_count": null,
   "id": "b01d4264-5670-4281-877f-f1c33943d60d",
   "metadata": {
    "tags": []
   },
   "outputs": [],
   "source": [
    "%%time\n",
    "\n",
    "def _spreads_v1_df(start: str, end: str) -> pd.DataFrame:\n",
    "    return pd.read_sql_query(f'''\n",
    "        select\n",
    "            symbol,\n",
    "            exchange,\n",
    "            cast(last_ask - last_bid as float) / last_ask * 100 as spread_percents,\n",
    "            timestamp\n",
    "        from monitoring_spread_v2\n",
    "        where timestamp >= to_timestamp('{start}', 'YYYY-MM-DD HH24:MI:SS')\n",
    "            and timestamp < to_timestamp('{end}', 'YYYY-MM-DD HH24:MI:SS')\n",
    "    ''', conn_postgres)\n",
    "\n",
    "spreads_v1_df = _spreads_df(get_df=_spreads_v1_df)"
   ]
  },
  {
   "cell_type": "code",
   "execution_count": null,
   "id": "a4797186-b973-4d4e-8247-040bbb9565fd",
   "metadata": {
    "tags": []
   },
   "outputs": [],
   "source": [
    "filename = dt.datetime.utcnow().strftime('monitor-v1--%m-%d-%Y.csv')\n",
    "spreads_v1_df.pipe(_to_csv, filename=filename)"
   ]
  },
  {
   "cell_type": "markdown",
   "id": "33d29a11-d625-49b5-92f4-3de0f807a134",
   "metadata": {},
   "source": [
    "### v2"
   ]
  },
  {
   "cell_type": "code",
   "execution_count": null,
   "id": "98f137a2-65b8-4cfa-84b1-dbb358cd5727",
   "metadata": {
    "tags": []
   },
   "outputs": [],
   "source": [
    "%%time\n",
    "\n",
    "def _spreads_v2_df(start: str, end: str) -> pd.DataFrame:\n",
    "    return pd.read_sql_query(f'''\n",
    "        select\n",
    "            symbol,\n",
    "            exchange,\n",
    "            cast(high_price - low_price as float) / high_price * 100 as spread_percents,\n",
    "            timestamp\n",
    "        from monitoring_spread_v2_tickers\n",
    "        where timestamp >= to_timestamp('{start}', 'YYYY-MM-DD HH24:MI:SS')\n",
    "            and timestamp < to_timestamp('{end}', 'YYYY-MM-DD HH24:MI:SS')\n",
    "            and high_price != 0\n",
    "            and low_price != 0\n",
    "    ''', conn_postgres)\n",
    "\n",
    "spreads_v2_df = _spreads_df(get_df=_spreads_v2_df)"
   ]
  },
  {
   "cell_type": "code",
   "execution_count": null,
   "id": "c41c232e-e170-4438-9d50-ffbad5d797cc",
   "metadata": {
    "tags": []
   },
   "outputs": [],
   "source": [
    "filename = dt.datetime.utcnow().strftime('monitor-v2--%m-%d-%Y.csv')\n",
    "spreads_v2_df.pipe(_to_csv, filename=filename)"
   ]
  }
 ],
 "metadata": {
  "kernelspec": {
   "display_name": "Python 3 (ipykernel)",
   "language": "python",
   "name": "python3"
  },
  "language_info": {
   "codemirror_mode": {
    "name": "ipython",
    "version": 3
   },
   "file_extension": ".py",
   "mimetype": "text/x-python",
   "name": "python",
   "nbconvert_exporter": "python",
   "pygments_lexer": "ipython3",
   "version": "3.10.9"
  }
 },
 "nbformat": 4,
 "nbformat_minor": 5
}
